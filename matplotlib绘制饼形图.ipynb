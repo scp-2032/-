{
 "cells": [
  {
   "cell_type": "code",
   "execution_count": 85,
   "metadata": {},
   "outputs": [],
   "source": [
    "import pandas as pd"
   ]
  },
  {
   "cell_type": "code",
   "execution_count": 86,
   "metadata": {},
   "outputs": [],
   "source": [
    "import numpy as np"
   ]
  },
  {
   "cell_type": "code",
   "execution_count": 87,
   "metadata": {},
   "outputs": [],
   "source": [
    "import matplotlib.pyplot as plt"
   ]
  },
  {
   "cell_type": "markdown",
   "metadata": {},
   "source": [
    "# 不要尝试"
   ]
  },
  {
   "cell_type": "code",
   "execution_count": null,
   "metadata": {},
   "outputs": [],
   "source": [
    "import matplotlib.pyplot as plt\n",
    "x = [15,30,45,10]\n",
    "#定义饼的标签，\n",
    "labels = ['A','B','C','E']\n",
    "#绘制饼图\n",
    "plt.pie(x,labels=labels)\n",
    "plt.show()"
   ]
  },
  {
   "cell_type": "markdown",
   "metadata": {},
   "source": [
    "## 显示百分比，设置正圆"
   ]
  },
  {
   "cell_type": "code",
   "execution_count": null,
   "metadata": {},
   "outputs": [],
   "source": [
    "import matplotlib.pyplot as plt\n",
    "labels = ['A','B','C','D']\n",
    "x = [15,30,45,10]\n",
    "#显示百分比\n",
    "plt.pie(x,labels=labels,autopct='%3.2f%%')\n",
    "#设置x,y的刻度一样，使其饼图为正圆\n",
    "plt.axis('equal')\n",
    "plt.show()"
   ]
  },
  {
   "cell_type": "markdown",
   "metadata": {},
   "source": [
    "## 设置字体大小"
   ]
  },
  {
   "cell_type": "code",
   "execution_count": null,
   "metadata": {},
   "outputs": [],
   "source": [
    "import matplotlib.pyplot as plt\n",
    "labels = ['A', 'B', 'C', 'D']\n",
    "x = [15, 30, 45, 10]\n",
    "# 显示百分比\n",
    "#textprops={'fontsize':18,'color':'k'} 设置为字体大小为18，颜色黑色\n",
    "plt.pie(x, labels=labels, autopct='%3.2f%%', textprops={'fontsize': 18, 'color': 'k'})\n",
    "# 设置x,y的刻度一样，使其饼图为正圆\n",
    "plt.axis('equal')\n",
    "plt.show()"
   ]
  },
  {
   "cell_type": "markdown",
   "metadata": {},
   "source": [
    "## 显示百分比，设置饼图分离和阴影"
   ]
  },
  {
   "cell_type": "code",
   "execution_count": null,
   "metadata": {},
   "outputs": [],
   "source": [
    "import matplotlib.pyplot as plt\n",
    "labels = ['A', 'B', 'C', 'D']\n",
    "x = [15, 30, 45, 10]\n",
    "explode = (0.1, 0, 0.1, 0)\n",
    "plt.pie(x, labels=labels, autopct='%3.2f%%', explode=explode, shadow=True)\n",
    "# 设置x,y的刻度一样，使其饼图为正圆\n",
    "plt.axis('equal')\n",
    "plt.show()"
   ]
  },
  {
   "cell_type": "markdown",
   "metadata": {},
   "source": [
    "## 设置起始角度"
   ]
  },
  {
   "cell_type": "code",
   "execution_count": null,
   "metadata": {},
   "outputs": [],
   "source": [
    "import matplotlib.pyplot as plt\n",
    "labels = ['A', 'B', 'C', 'D']\n",
    "x = [15, 30, 45, 10]\n",
    "explode = (0, 0.1, 0, 0)\n",
    "# startangle,为起始角度，0表示从0开始逆时针旋转，为第一块。\n",
    "plt.pie(x, labels=labels, autopct='%3.2f%%', explode=explode, shadow=True, startangle=60)\n",
    "# 设置x,y的刻度一样，使其饼图为正圆\n",
    "plt.axis('equal')\n",
    "plt.show()"
   ]
  },
  {
   "cell_type": "markdown",
   "metadata": {},
   "source": [
    "## 设置标签到圆心的距离"
   ]
  },
  {
   "cell_type": "code",
   "execution_count": null,
   "metadata": {},
   "outputs": [],
   "source": [
    "\n",
    "import matplotlib.pyplot as plt\n",
    "labels = ['A', 'B', 'C', 'D']\n",
    "x = [15, 30, 45, 10]\n",
    "explode = (0, 0.1, 0, 0)\n",
    "#设置阴影效果\n",
    "# startangle,为起始角度，0表示从0开始逆时针旋转，为第一块。\n",
    "# pctdistance,百分比的文本离圆心的距离为0.5\n",
    "plt.pie(x, labels=labels, autopct='%3.2f%%', explode=explode, shadow=True, startangle=60, pctdistance=0.6)\n",
    "# 设置x,y的刻度一样，使其饼图为正圆\n",
    "plt.axis('equal')\n",
    "#添加图例\n",
    "plt.legend()\n",
    "# 保存到本地文件夹\n",
    "#plt.savefig('./饼图.png')\n",
    "plt.show()"
   ]
  },
  {
   "cell_type": "code",
   "execution_count": null,
   "metadata": {},
   "outputs": [],
   "source": [
    "plt.pie(x, explode=None, labels=None, colors=None, autopct=None, pctdistance=0.6, shadow=False, labeldistance=1.1, startangle=None, radius=None, counterclock=True, wedgeprops=None, textprops=None, center=(0, 0), frame=False)\n",
    "\n",
    "x：指定绘图的数据；\n",
    "explode：指定饼图某些部分的突出显示，即呈现爆炸式；\n",
    "labels：为饼图添加标签说明，类似于图例说明；\n",
    "colors：指定饼图的填充色；\n",
    "autopct：自动添加百分比显示，可以采用格式化的方法显示；\n",
    "pctdistance：设置百分比标签与圆心的距离；\n",
    "shadow：是否添加饼图的阴影效果；\n",
    "labeldistance：设置各扇形标签（图例）与圆心的距离；\n",
    "startangle：设置饼图的初始摆放角度；\n",
    "radius：设置饼图的半径大小；\n",
    "counterclock：是否让饼图按逆时针顺序呈现；\n",
    "wedgeprops：设置饼图内外边界的属性，如边界线的粗细、颜色等；\n",
    "textprops：设置饼图中文本的属性，如字体大小、颜色等；\n",
    "center：指定饼图的中心点位置，默认为原点\n",
    "frame：是否要显示饼图背后的图框，如果设置为True的话，需要同时控制图框x轴、y轴的范围和饼图的中心位置；"
   ]
  }
 ],
 "metadata": {
  "kernelspec": {
   "display_name": "Python 3",
   "language": "python",
   "name": "python3"
  },
  "language_info": {
   "codemirror_mode": {
    "name": "ipython",
    "version": 3
   },
   "file_extension": ".py",
   "mimetype": "text/x-python",
   "name": "python",
   "nbconvert_exporter": "python",
   "pygments_lexer": "ipython3",
   "version": "3.7.7"
  }
 },
 "nbformat": 4,
 "nbformat_minor": 4
}
